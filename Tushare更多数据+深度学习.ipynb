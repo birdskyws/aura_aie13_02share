{
 "cells": [
  {
   "cell_type": "code",
   "execution_count": 1,
   "metadata": {},
   "outputs": [
    {
     "name": "stderr",
     "output_type": "stream",
     "text": [
      "/anaconda3/lib/python3.6/site-packages/h5py/__init__.py:36: FutureWarning: Conversion of the second argument of issubdtype from `float` to `np.floating` is deprecated. In future, it will be treated as `np.float64 == np.dtype(float).type`.\n",
      "  from ._conv import register_converters as _register_converters\n"
     ]
    }
   ],
   "source": [
    "import pandas as pd\n",
    "import numpy as np\n",
    "import tensorflow as tf\n",
    "import tushare as ts\n",
    "import matplotlib.pyplot as plt\n",
    "import time"
   ]
  },
  {
   "cell_type": "code",
   "execution_count": 2,
   "metadata": {},
   "outputs": [],
   "source": [
    "stock_info_df = pd.read_csv(\"list.csv\")"
   ]
  },
  {
   "cell_type": "code",
   "execution_count": 3,
   "metadata": {},
   "outputs": [
    {
     "data": {
      "text/html": [
       "<div>\n",
       "<style scoped>\n",
       "    .dataframe tbody tr th:only-of-type {\n",
       "        vertical-align: middle;\n",
       "    }\n",
       "\n",
       "    .dataframe tbody tr th {\n",
       "        vertical-align: top;\n",
       "    }\n",
       "\n",
       "    .dataframe thead th {\n",
       "        text-align: right;\n",
       "    }\n",
       "</style>\n",
       "<table border=\"1\" class=\"dataframe\">\n",
       "  <thead>\n",
       "    <tr style=\"text-align: right;\">\n",
       "      <th></th>\n",
       "      <th>ts_code</th>\n",
       "      <th>symbol</th>\n",
       "      <th>name</th>\n",
       "      <th>area</th>\n",
       "      <th>industry</th>\n",
       "      <th>list_date</th>\n",
       "    </tr>\n",
       "  </thead>\n",
       "  <tbody>\n",
       "    <tr>\n",
       "      <th>0</th>\n",
       "      <td>000001.SZ</td>\n",
       "      <td>1</td>\n",
       "      <td>平安银行</td>\n",
       "      <td>深圳</td>\n",
       "      <td>银行</td>\n",
       "      <td>19910403</td>\n",
       "    </tr>\n",
       "    <tr>\n",
       "      <th>1</th>\n",
       "      <td>000002.SZ</td>\n",
       "      <td>2</td>\n",
       "      <td>万科A</td>\n",
       "      <td>深圳</td>\n",
       "      <td>全国地产</td>\n",
       "      <td>19910129</td>\n",
       "    </tr>\n",
       "    <tr>\n",
       "      <th>2</th>\n",
       "      <td>000004.SZ</td>\n",
       "      <td>4</td>\n",
       "      <td>国农科技</td>\n",
       "      <td>深圳</td>\n",
       "      <td>生物制药</td>\n",
       "      <td>19910114</td>\n",
       "    </tr>\n",
       "    <tr>\n",
       "      <th>3</th>\n",
       "      <td>000005.SZ</td>\n",
       "      <td>5</td>\n",
       "      <td>世纪星源</td>\n",
       "      <td>深圳</td>\n",
       "      <td>房产服务</td>\n",
       "      <td>19901210</td>\n",
       "    </tr>\n",
       "    <tr>\n",
       "      <th>4</th>\n",
       "      <td>000006.SZ</td>\n",
       "      <td>6</td>\n",
       "      <td>深振业A</td>\n",
       "      <td>深圳</td>\n",
       "      <td>区域地产</td>\n",
       "      <td>19920427</td>\n",
       "    </tr>\n",
       "  </tbody>\n",
       "</table>\n",
       "</div>"
      ],
      "text/plain": [
       "     ts_code  symbol  name area industry  list_date\n",
       "0  000001.SZ       1  平安银行   深圳       银行   19910403\n",
       "1  000002.SZ       2   万科A   深圳     全国地产   19910129\n",
       "2  000004.SZ       4  国农科技   深圳     生物制药   19910114\n",
       "3  000005.SZ       5  世纪星源   深圳     房产服务   19901210\n",
       "4  000006.SZ       6  深振业A   深圳     区域地产   19920427"
      ]
     },
     "execution_count": 3,
     "metadata": {},
     "output_type": "execute_result"
    }
   ],
   "source": [
    "stock_info_df[:5]"
   ]
  },
  {
   "cell_type": "code",
   "execution_count": 4,
   "metadata": {},
   "outputs": [
    {
     "name": "stdout",
     "output_type": "stream",
     "text": [
      "       ts_code  symbol  name area industry  list_date\n",
      "344  000835.SZ     835  长城动漫   四川     影视音像   19990625\n"
     ]
    }
   ],
   "source": [
    "info = stock_info_df[stock_info_df['name']=='长城动漫']\n",
    "print(info)"
   ]
  },
  {
   "cell_type": "code",
   "execution_count": 5,
   "metadata": {},
   "outputs": [],
   "source": [
    "stock_data_df = ts.get_hist_data('000835')"
   ]
  },
  {
   "cell_type": "code",
   "execution_count": 25,
   "metadata": {},
   "outputs": [
    {
     "data": {
      "text/html": [
       "<div>\n",
       "<style scoped>\n",
       "    .dataframe tbody tr th:only-of-type {\n",
       "        vertical-align: middle;\n",
       "    }\n",
       "\n",
       "    .dataframe tbody tr th {\n",
       "        vertical-align: top;\n",
       "    }\n",
       "\n",
       "    .dataframe thead th {\n",
       "        text-align: right;\n",
       "    }\n",
       "</style>\n",
       "<table border=\"1\" class=\"dataframe\">\n",
       "  <thead>\n",
       "    <tr style=\"text-align: right;\">\n",
       "      <th></th>\n",
       "      <th>open</th>\n",
       "      <th>high</th>\n",
       "      <th>close</th>\n",
       "      <th>low</th>\n",
       "      <th>volume</th>\n",
       "      <th>price_change</th>\n",
       "      <th>p_change</th>\n",
       "      <th>ma5</th>\n",
       "      <th>ma10</th>\n",
       "      <th>ma20</th>\n",
       "      <th>v_ma5</th>\n",
       "      <th>v_ma10</th>\n",
       "      <th>v_ma20</th>\n",
       "    </tr>\n",
       "    <tr>\n",
       "      <th>date</th>\n",
       "      <th></th>\n",
       "      <th></th>\n",
       "      <th></th>\n",
       "      <th></th>\n",
       "      <th></th>\n",
       "      <th></th>\n",
       "      <th></th>\n",
       "      <th></th>\n",
       "      <th></th>\n",
       "      <th></th>\n",
       "      <th></th>\n",
       "      <th></th>\n",
       "      <th></th>\n",
       "    </tr>\n",
       "  </thead>\n",
       "  <tbody>\n",
       "    <tr>\n",
       "      <th>2019-03-08</th>\n",
       "      <td>5.25</td>\n",
       "      <td>5.36</td>\n",
       "      <td>4.93</td>\n",
       "      <td>4.93</td>\n",
       "      <td>206333.14</td>\n",
       "      <td>-0.55</td>\n",
       "      <td>-10.04</td>\n",
       "      <td>5.164</td>\n",
       "      <td>4.872</td>\n",
       "      <td>4.515</td>\n",
       "      <td>220592.71</td>\n",
       "      <td>160074.10</td>\n",
       "      <td>107258.28</td>\n",
       "    </tr>\n",
       "    <tr>\n",
       "      <th>2019-03-07</th>\n",
       "      <td>5.37</td>\n",
       "      <td>5.54</td>\n",
       "      <td>5.48</td>\n",
       "      <td>5.33</td>\n",
       "      <td>287239.44</td>\n",
       "      <td>-0.12</td>\n",
       "      <td>-2.14</td>\n",
       "      <td>5.104</td>\n",
       "      <td>4.812</td>\n",
       "      <td>4.459</td>\n",
       "      <td>194094.45</td>\n",
       "      <td>145954.17</td>\n",
       "      <td>99264.57</td>\n",
       "    </tr>\n",
       "    <tr>\n",
       "      <th>2019-03-06</th>\n",
       "      <td>5.50</td>\n",
       "      <td>5.65</td>\n",
       "      <td>5.60</td>\n",
       "      <td>5.31</td>\n",
       "      <td>422478.47</td>\n",
       "      <td>0.46</td>\n",
       "      <td>8.95</td>\n",
       "      <td>4.924</td>\n",
       "      <td>4.688</td>\n",
       "      <td>4.364</td>\n",
       "      <td>151391.15</td>\n",
       "      <td>125230.87</td>\n",
       "      <td>88543.00</td>\n",
       "    </tr>\n",
       "    <tr>\n",
       "      <th>2019-03-05</th>\n",
       "      <td>4.61</td>\n",
       "      <td>5.14</td>\n",
       "      <td>5.14</td>\n",
       "      <td>4.60</td>\n",
       "      <td>66883.12</td>\n",
       "      <td>0.47</td>\n",
       "      <td>10.06</td>\n",
       "      <td>4.734</td>\n",
       "      <td>4.555</td>\n",
       "      <td>4.272</td>\n",
       "      <td>92494.63</td>\n",
       "      <td>88428.00</td>\n",
       "      <td>69808.74</td>\n",
       "    </tr>\n",
       "    <tr>\n",
       "      <th>2019-03-04</th>\n",
       "      <td>4.80</td>\n",
       "      <td>4.87</td>\n",
       "      <td>4.67</td>\n",
       "      <td>4.63</td>\n",
       "      <td>120029.37</td>\n",
       "      <td>0.04</td>\n",
       "      <td>0.86</td>\n",
       "      <td>4.610</td>\n",
       "      <td>4.466</td>\n",
       "      <td>4.211</td>\n",
       "      <td>101434.52</td>\n",
       "      <td>89337.67</td>\n",
       "      <td>70424.93</td>\n",
       "    </tr>\n",
       "    <tr>\n",
       "      <th>2019-03-01</th>\n",
       "      <td>4.61</td>\n",
       "      <td>4.67</td>\n",
       "      <td>4.63</td>\n",
       "      <td>4.50</td>\n",
       "      <td>73841.85</td>\n",
       "      <td>0.05</td>\n",
       "      <td>1.09</td>\n",
       "      <td>4.580</td>\n",
       "      <td>4.420</td>\n",
       "      <td>4.186</td>\n",
       "      <td>99555.49</td>\n",
       "      <td>83327.03</td>\n",
       "      <td>71598.22</td>\n",
       "    </tr>\n",
       "  </tbody>\n",
       "</table>\n",
       "</div>"
      ],
      "text/plain": [
       "            open  high  close   low     volume  price_change  p_change    ma5  \\\n",
       "date                                                                            \n",
       "2019-03-08  5.25  5.36   4.93  4.93  206333.14         -0.55    -10.04  5.164   \n",
       "2019-03-07  5.37  5.54   5.48  5.33  287239.44         -0.12     -2.14  5.104   \n",
       "2019-03-06  5.50  5.65   5.60  5.31  422478.47          0.46      8.95  4.924   \n",
       "2019-03-05  4.61  5.14   5.14  4.60   66883.12          0.47     10.06  4.734   \n",
       "2019-03-04  4.80  4.87   4.67  4.63  120029.37          0.04      0.86  4.610   \n",
       "2019-03-01  4.61  4.67   4.63  4.50   73841.85          0.05      1.09  4.580   \n",
       "\n",
       "             ma10   ma20      v_ma5     v_ma10     v_ma20  \n",
       "date                                                       \n",
       "2019-03-08  4.872  4.515  220592.71  160074.10  107258.28  \n",
       "2019-03-07  4.812  4.459  194094.45  145954.17   99264.57  \n",
       "2019-03-06  4.688  4.364  151391.15  125230.87   88543.00  \n",
       "2019-03-05  4.555  4.272   92494.63   88428.00   69808.74  \n",
       "2019-03-04  4.466  4.211  101434.52   89337.67   70424.93  \n",
       "2019-03-01  4.420  4.186   99555.49   83327.03   71598.22  "
      ]
     },
     "execution_count": 25,
     "metadata": {},
     "output_type": "execute_result"
    }
   ],
   "source": [
    "today = time.strftime('%Y-%m-%d',time.localtime(time.time()))\n",
    "stock_data_df.loc[today:\"2019-03-01\"]"
   ]
  },
  {
   "cell_type": "code",
   "execution_count": 7,
   "metadata": {},
   "outputs": [],
   "source": [
    "## 保持x、y对齐。target去掉最后一列，df去掉第一列。\n",
    "target = stock_data_df.iloc[:-1,2].as_matrix().astype(np.float32)\n",
    "data  = stock_data_df.iloc[1:].as_matrix().astype(np.float32)"
   ]
  },
  {
   "cell_type": "code",
   "execution_count": 8,
   "metadata": {},
   "outputs": [],
   "source": [
    "target_train,target_test,data_train,data_test = target[50:].reshape(-1,1),target[:50].reshape(-1,1),data[50:],data[:50]"
   ]
  },
  {
   "cell_type": "code",
   "execution_count": 9,
   "metadata": {},
   "outputs": [
    {
     "data": {
      "text/plain": [
       "((539, 1), (50, 1), (539, 13), (50, 13), numpy.float32)"
      ]
     },
     "execution_count": 9,
     "metadata": {},
     "output_type": "execute_result"
    }
   ],
   "source": [
    "target_train.shape,target_test.shape,data_train.shape,data_test.shape,type(data_train[0][0])"
   ]
  },
  {
   "cell_type": "code",
   "execution_count": 80,
   "metadata": {},
   "outputs": [
    {
     "name": "stdout",
     "output_type": "stream",
     "text": [
      "0 85.90506\n",
      "2000 0.042203255\n",
      "4000 0.034057677\n",
      "6000 0.02993688\n",
      "8000 0.02710875\n",
      "10000 0.024381623\n",
      "12000 0.022637345\n",
      "14000 0.02196386\n",
      "16000 0.021492451\n",
      "18000 0.02117493\n",
      "20000 0.020755444\n",
      "22000 0.019941635\n",
      "24000 0.019770475\n",
      "26000 0.019616866\n",
      "28000 0.019507932\n",
      "30000 0.019204222\n",
      "32000 0.019060448\n",
      "34000 0.018902497\n",
      "36000 0.018825546\n",
      "38000 0.018697847\n",
      "40000 0.018520836\n",
      "42000 0.018435614\n",
      "44000 0.018386364\n",
      "46000 0.018273175\n",
      "48000 0.018163621\n"
     ]
    }
   ],
   "source": [
    "import tensorflow.contrib.slim as slim\n",
    "tf.reset_default_graph()\n",
    "x = tf.placeholder(dtype=tf.float32,shape=[None,13],name=\"input_X\")\n",
    "y = tf.placeholder(dtype=tf.float32,shape=[None,1],name=\"input_Y\")\n",
    "# 定义网络\n",
    "net = tf.contrib.layers.batch_norm(x)\n",
    "net = slim.fully_connected(net,8,activation_fn=tf.nn.relu)\n",
    "net = tf.contrib.layers.batch_norm(net)\n",
    "net = slim.fully_connected(net,8,activation_fn=tf.nn.relu)\n",
    "net = tf.contrib.layers.batch_norm(net)\n",
    "net = slim.fully_connected(net,1,activation_fn=None)\n",
    "loss = tf.reduce_mean(tf.square(net-y))\n",
    "train_step = tf.train.AdamOptimizer(0.001).minimize(loss)\n",
    "sess = tf.Session()\n",
    "sess.run(tf.global_variables_initializer())\n",
    "for itr in range(50000):\n",
    "    loss_var,_ = sess.run([loss,train_step],feed_dict={x:data_train,y:target_train})\n",
    "    if itr%2000==0:\n",
    "        print(itr,loss_var)\n",
    "y_predict = sess.run(net,feed_dict={x:data})\n",
    "today = stock_data_df.iloc[:1].as_matrix().astype(np.float32)\n",
    "today = today.reshape(1,13)\n",
    "next_day = sess.run(net,feed_dict={x:today}) "
   ]
  },
  {
   "cell_type": "code",
   "execution_count": 81,
   "metadata": {},
   "outputs": [
    {
     "data": {
      "image/png": "[encoded data removed]",
      "text/plain": [
       "<matplotlib.figure.Figure at 0x1c2be1af60>"
      ]
     },
     "metadata": {},
     "output_type": "display_data"
    }
   ],
   "source": [
    "plt.plot(y_predict,color=\"red\",label=\"预测\")\n",
    "plt.plot(target,color=\"yellow\",label=\"真实\")\n",
    "plt.show()"
   ]
  },
  {
   "cell_type": "code",
   "execution_count": 82,
   "metadata": {},
   "outputs": [
    {
     "data": {
      "image/png": "[encoded data removed]",
      "text/plain": [
       "<matplotlib.figure.Figure at 0x1c2bd58f98>"
      ]
     },
     "metadata": {},
     "output_type": "display_data"
    }
   ],
   "source": [
    "index_label = stock_data_df.index\n",
    "plt.scatter(index_label[:50],y_predict[:50],color=\"red\",label=\"预测\")\n",
    "plt.scatter(index_label[:50],target[:50],color=\"yellow\",label=\"真实\")\n",
    "plt.show()"
   ]
  },
  {
   "cell_type": "code",
   "execution_count": 83,
   "metadata": {},
   "outputs": [
    {
     "data": {
      "text/plain": [
       "array([[8.710858]], dtype=float32)"
      ]
     },
     "execution_count": 83,
     "metadata": {},
     "output_type": "execute_result"
    }
   ],
   "source": [
    "next_day"
   ]
  },
  {
   "cell_type": "markdown",
   "metadata": {},
   "source": [
    "## <font color=\"red\">随机森林，多选几只股票。</font>\n",
    "## <font color=\"red\">无监督学习，识别庄家。</font>\n",
    "## 图像识别K线图、自然语言处理，情分分析，subject 发现、文章分类。"
   ]
  },
  {
   "cell_type": "markdown",
   "metadata": {},
   "source": [
    "浅谈量化\n",
    "最近在一篇论文的研究中看到，如今的证券市场，60%的指令是由程序发出的，80%以上的美国大型基金以及三分之一的亚洲大型基金，均已使用量化投资策略。"
   ]
  },
  {
   "cell_type": "markdown",
   "metadata": {},
   "source": [
    "# 涨停价位的计算是:前一日收盘价+(前一日收盘价×10%)"
   ]
  },
  {
   "cell_type": "code",
   "execution_count": null,
   "metadata": {},
   "outputs": [],
   "source": []
  }
 ],
 "metadata": {
  "kernelspec": {
   "display_name": "Python 3",
   "language": "python",
   "name": "python3"
  },
  "language_info": {
   "codemirror_mode": {
    "name": "ipython",
    "version": 3
   },
   "file_extension": ".py",
   "mimetype": "text/x-python",
   "name": "python",
   "nbconvert_exporter": "python",
   "pygments_lexer": "ipython3",
   "version": "3.6.4"
  }
 },
 "nbformat": 4,
 "nbformat_minor": 2
}
